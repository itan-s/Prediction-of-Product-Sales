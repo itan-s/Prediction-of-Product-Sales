{
  "nbformat": 4,
  "nbformat_minor": 0,
  "metadata": {
    "colab": {
      "provenance": [],
      "authorship_tag": "ABX9TyM8fQBU0vZLKSBV2KciXlhu",
      "include_colab_link": true
    },
    "kernelspec": {
      "name": "python3",
      "display_name": "Python 3"
    },
    "language_info": {
      "name": "python"
    }
  },
  "cells": [
    {
      "cell_type": "markdown",
      "metadata": {
        "id": "view-in-github",
        "colab_type": "text"
      },
      "source": [
        "<a href=\"https://colab.research.google.com/github/itan-s/Prediction-of-Product-Sales/blob/main/Prediction-of-Product-Sales.ipynb\" target=\"_parent\"><img src=\"https://colab.research.google.com/assets/colab-badge.svg\" alt=\"Open In Colab\"/></a>"
      ]
    },
    {
      "cell_type": "markdown",
      "source": [
        "#Prediction of Product Sales"
      ],
      "metadata": {
        "id": "WO54iSUqep_X"
      }
    },
    {
      "cell_type": "markdown",
      "source": [
        "- Kristan Bryan Simbulan"
      ],
      "metadata": {
        "id": "mp0tYbLhf0ia"
      }
    },
    {
      "cell_type": "markdown",
      "source": [
        "##Project Overview"
      ],
      "metadata": {
        "id": "GEWmSKH1fLou"
      }
    },
    {
      "cell_type": "code",
      "source": [],
      "metadata": {
        "id": "fLkdB9qnfeDn"
      },
      "execution_count": null,
      "outputs": []
    },
    {
      "cell_type": "markdown",
      "source": [
        "## Load and Inspect Data"
      ],
      "metadata": {
        "id": "caAwI0r1fP4G"
      }
    },
    {
      "cell_type": "code",
      "source": [],
      "metadata": {
        "id": "Yl2F3QVLfZjY"
      },
      "execution_count": null,
      "outputs": []
    },
    {
      "cell_type": "markdown",
      "source": [
        "## Clean Data\n"
      ],
      "metadata": {
        "id": "Cbv471SVfgA1"
      }
    },
    {
      "cell_type": "code",
      "source": [],
      "metadata": {
        "id": "500MrNAHfhEp"
      },
      "execution_count": null,
      "outputs": []
    },
    {
      "cell_type": "markdown",
      "source": [
        "## Exploratory Data Analysis"
      ],
      "metadata": {
        "id": "Dt7faYArfhn9"
      }
    },
    {
      "cell_type": "code",
      "source": [],
      "metadata": {
        "id": "TDX43h8UfjAF"
      },
      "execution_count": null,
      "outputs": []
    },
    {
      "cell_type": "markdown",
      "source": [
        "## Feature Inspection"
      ],
      "metadata": {
        "id": "5vfHqHJVfjcG"
      }
    },
    {
      "cell_type": "code",
      "source": [],
      "metadata": {
        "id": "7UJMSPslfj-D"
      },
      "execution_count": null,
      "outputs": []
    }
  ]
}